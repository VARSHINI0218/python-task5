{
 "cells": [
  {
   "cell_type": "code",
   "execution_count": 2,
   "id": "a588cc3d",
   "metadata": {},
   "outputs": [
    {
     "name": "stdout",
     "output_type": "stream",
     "text": [
      "enter url here: \"http://short.url/\"\n",
      "Original URL: \"http://short.url/\"\n",
      "Short URL: http://short.url/353334\n",
      "Expanded URL: \"http://short.url/\"\n"
     ]
    }
   ],
   "source": [
    "import hashlib\n",
    "\n",
    "class UrlShortener:\n",
    "    def __init__(self):\n",
    "        self.url_mapping = {}\n",
    "        self.base_url = \"http://short.url/\"\n",
    "\n",
    "    def shorten_url(self, original_url):\n",
    "        hash_value = hashlib.md5(original_url.encode()).hexdigest()[:6]\n",
    "        short_url = self.base_url + hash_value\n",
    "        self.url_mapping[short_url] = original_url\n",
    "        return short_url\n",
    "\n",
    "    def expand_url(self, short_url):\n",
    "        original_url = self.url_mapping.get(short_url)\n",
    "        return original_url\n",
    "\n",
    "#Example\n",
    "url_shortener = UrlShortener()\n",
    "\n",
    "original_url = input(\"enter url here: \")\n",
    "short_url = url_shortener.shorten_url(original_url)\n",
    "\n",
    "print(f\"Original URL: {original_url}\")\n",
    "print(f\"Short URL: {short_url}\")\n",
    "\n",
    "expanded_url = url_shortener.expand_url(short_url)\n",
    "print(f\"Expanded URL: {expanded_url}\")"
   ]
  },
  {
   "cell_type": "code",
   "execution_count": null,
   "id": "4205b1d5",
   "metadata": {},
   "outputs": [],
   "source": [
    "import hashlib\n",
    "\n",
    "class UrlShortener:\n",
    "    def __init__(self):\n",
    "        self.url_mapping = {}\n",
    "        self.base_url = \"http://short.url/\"\n",
    "\n",
    "    def shorten_url(self, original_url):\n",
    "        hash_value = hashlib.md5(original_url.encode()).hexdigest()[:6]\n",
    "        short_url = self.base_url + hash_value\n",
    "        self.url_mapping[short_url] = original_url\n",
    "        return short_url\n",
    "\n",
    "    def expand_url(self, short_url):\n",
    "        original_url = self.url_mapping.get(short_url)\n",
    "        return original_url\n",
    "\n",
    "#Example\n",
    "url_shortener = UrlShortener()\n",
    "\n",
    "original_url = input(\"enter url here: \")\n",
    "short_url = url_shortener.shorten_url(original_url)\n",
    "\n",
    "print(f\"Original URL: {original_url}\")\n",
    "print(f\"Short URL: {short_url}\")\n",
    "\n",
    "expanded_url = url_shortener.expand_url(short_url)\n",
    "print(f\"Expanded URL: {expanded_url}\")"
   ]
  }
 ],
 "metadata": {
  "kernelspec": {
   "display_name": "Python 3 (ipykernel)",
   "language": "python",
   "name": "python3"
  },
  "language_info": {
   "codemirror_mode": {
    "name": "ipython",
    "version": 3
   },
   "file_extension": ".py",
   "mimetype": "text/x-python",
   "name": "python",
   "nbconvert_exporter": "python",
   "pygments_lexer": "ipython3",
   "version": "3.11.3"
  }
 },
 "nbformat": 4,
 "nbformat_minor": 5
}
